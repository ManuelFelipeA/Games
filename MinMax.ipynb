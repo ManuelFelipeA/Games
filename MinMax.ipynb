{
 "cells": [
  {
   "cell_type": "code",
   "execution_count": 24,
   "metadata": {},
   "outputs": [
    {
     "name": "stdout",
     "output_type": "stream",
     "text": [
      "1\n"
     ]
    }
   ],
   "source": [
    "def min_max(state, player):\n",
    "    if state == 20:\n",
    "        return 1\n",
    "    elif state > 20:\n",
    "        return -1\n",
    "    elif player == 'Max':\n",
    "        max_val = -float('inf')\n",
    "        for move in [1, 2, 3]:\n",
    "            val = min_max(state + move, 'Min')\n",
    "            max_val = max(max_val, val)\n",
    "        return max_val\n",
    "    elif player == 'Min':\n",
    "        min_val = float('inf')\n",
    "        for move in [1, 2, 3]:\n",
    "            val = min_max(state + move, 'Max')\n",
    "            min_val = min(min_val, val)\n",
    "        return min_val\n",
    "\n",
    "print(min_max(0, 'Max')) # Output: 1\n"
   ]
  },
  {
   "attachments": {},
   "cell_type": "markdown",
   "metadata": {},
   "source": [
    "En este ejemplo, el jugador Max comienza en el estado 0 y el objetivo es llegar al estado 20. Cada jugador puede hacer un movimiento de 1, 2 o 3. La función min_max devuelve la utilidad del estado actual, que es 1 si el jugador Max llega al estado 20 y -1 si el jugador Max pasa del estado 20. La función utiliza la recursión para evaluar todos los posibles movimientos y determinar cuál es el mejor movimiento para cada jugador en cada turno."
   ]
  },
  {
   "cell_type": "code",
   "execution_count": 28,
   "metadata": {},
   "outputs": [],
   "source": [
    "def min_max_alpha_beta(state, player, alpha, beta):\n",
    "    if state == 20:\n",
    "        return 1\n",
    "    elif state > 20:\n",
    "        return -1\n",
    "    elif player == 'Max':\n",
    "        max_val = -float('inf')\n",
    "        for move in [1, 2, 3]:\n",
    "            val = min_max_alpha_beta(state + move, 'Min', alpha, beta)\n",
    "            max_val = max(max_val, val)\n",
    "            alpha = max(alpha, val)\n",
    "            if alpha >= beta:\n",
    "                break\n",
    "        return max_val\n",
    "    elif player == 'Min':\n",
    "        min_val = float('inf')\n",
    "        for move in [1, 2, 3]:\n",
    "            val = min_max_alpha_beta(state + move, 'Max', alpha, beta)\n",
    "            min_val = min(min_val, val)\n",
    "            beta = min(beta, val)\n",
    "            if beta <= alpha:\n",
    "                break\n",
    "        return min_val\n"
   ]
  },
  {
   "cell_type": "code",
   "execution_count": 37,
   "metadata": {},
   "outputs": [
    {
     "name": "stdout",
     "output_type": "stream",
     "text": [
      "1\n"
     ]
    }
   ],
   "source": [
    "print(min_max_alpha_beta(19, 'Max', -float('inf'), float('inf')))"
   ]
  },
  {
   "attachments": {},
   "cell_type": "markdown",
   "metadata": {},
   "source": [
    "La función utiliza la recursión y el Alpha-Beta Pruning para evaluar todos los posibles movimientos y determinar cuál es el mejor movimiento para cada jugador en cada turno."
   ]
  }
 ],
 "metadata": {
  "kernelspec": {
   "display_name": "kernel1",
   "language": "python",
   "name": "kernel1"
  },
  "language_info": {
   "codemirror_mode": {
    "name": "ipython",
    "version": 3
   },
   "file_extension": ".py",
   "mimetype": "text/x-python",
   "name": "python",
   "nbconvert_exporter": "python",
   "pygments_lexer": "ipython3",
   "version": "3.9.12"
  },
  "orig_nbformat": 4
 },
 "nbformat": 4,
 "nbformat_minor": 2
}
